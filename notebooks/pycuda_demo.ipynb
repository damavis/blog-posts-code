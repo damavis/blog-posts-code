{
 "cells": [
  {
   "cell_type": "markdown",
   "id": "5ce725e7",
   "metadata": {},
   "source": [
    "# CUDA code definition"
   ]
  },
  {
   "cell_type": "code",
   "execution_count": 1,
   "id": "a0f0fdd7",
   "metadata": {},
   "outputs": [],
   "source": [
    "import pycuda.driver as cuda\n",
    "import pycuda.autoinit\n",
    "from pycuda.compiler import SourceModule\n",
    "import numpy\n",
    "import time\n",
    "\n",
    "class GloVeFastDistances():\n",
    "\n",
    "    def __init__(self,gloveFile):\n",
    "        mod1 = SourceModule(\"\"\"\n",
    "        __global__ void cosineSimilarity\n",
    "        (const unsigned int limit, const float* A, float* distanceOut,float* C_model, const float normA) {\n",
    "            __shared__ float fastA[300];\n",
    "            const unsigned int id = blockIdx.x * blockDim.x + threadIdx.x;\n",
    "            if (threadIdx.x < 300) {\n",
    "                fastA[threadIdx.x] = A[threadIdx.x]; // only one embeding is on A\n",
    "            }\n",
    "            __syncthreads();\n",
    "            if (id < limit) {\n",
    "            \n",
    "                float acum = 0;\n",
    "                float c_norm = 0;\n",
    "                const unsigned int row = id / 8; // Get row\n",
    "                const unsigned int interiorId = threadIdx.x % 8;\n",
    "                for (unsigned int i = interiorId; i < 300; i += 8) {\n",
    "                    float cvalAux = C_model[row*300+i];\n",
    "                    acum += fastA[i]*cvalAux; // Accumulate within the accumulator\n",
    "                    c_norm += cvalAux*cvalAux;\n",
    "                }\n",
    "                acum += __shfl_down_sync(0xffffffff, acum, 4); // Reduction\n",
    "                acum += __shfl_down_sync(0xffffffff, acum, 2); // Reduction\n",
    "                acum += __shfl_down_sync(0xffffffff, acum, 1); // Reduction\n",
    "                    \n",
    "                c_norm += __shfl_down_sync(0xffffffff, c_norm, 4); // Reduction\n",
    "                c_norm += __shfl_down_sync(0xffffffff, c_norm, 2); // Reduction\n",
    "                c_norm += __shfl_down_sync(0xffffffff, c_norm, 1); // Reduction\n",
    "\n",
    "                if (interiorId == 0) { // Final step and write results\n",
    "                    float simVal=(acum / (normA * sqrtf(c_norm)));\n",
    "                    distanceOut[row] = simVal;\n",
    "                }\n",
    "            }\n",
    "        }\n",
    "        \"\"\")\n",
    "        self.cosine_similarity = mod1.get_function(\"cosineSimilarity\")\n",
    "        \n",
    "        \n",
    "        f = open(gloveFile, 'r')\n",
    "        model = {}\n",
    "        count=0\n",
    "        for line in f:\n",
    "            splitLine = line.split(' ')\n",
    "            word = splitLine[0]\n",
    "            embedding = numpy.array([float(val) for val in splitLine[1:]])\n",
    "            model[word] = embedding\n",
    "\n",
    "        self.embeddings=[]\n",
    "        self.word_dictionary={}\n",
    "        self.inverse_word_dictionary={}\n",
    "        self.rows=len(model)\n",
    "        self.final_result=numpy.empty(self.rows,dtype=numpy.float32)\n",
    "        \n",
    "        \n",
    "        for idx,key in enumerate(sorted(model)):\n",
    "            self.embeddings.append(model[key])\n",
    "            self.word_dictionary[key]=idx\n",
    "            self.inverse_word_dictionary[idx]=key\n",
    "        self.embeddings=numpy.array(self.embeddings,dtype=numpy.float32)\n",
    "\n",
    "        self.c_model_gpu = cuda.mem_alloc(self.embeddings.nbytes)\n",
    "        cuda.memcpy_htod(self.c_model_gpu, self.embeddings)\n",
    "        self.pos = numpy.zeros(self.rows,dtype=numpy.uint32)\n",
    "        self.grid_dot = ((self.rows // 64) + 1, 1)\n",
    "        self.block_dot = (512, 1, 1)\n",
    "        self.cosine_similarity.prepare((\"I\", \"P\", \"P\", \"P\",\"F\"))\n",
    "        \n",
    "        self.a_gpu = cuda.mem_alloc(300*4)\n",
    "        self.distances_gpu = cuda.mem_alloc(self.rows*4)\n",
    "    \n",
    "        \n",
    "    def get_similar_word(self,word):\n",
    "        word=numpy.float32(word)\n",
    "        norm=numpy.linalg.norm(word)\n",
    "        cuda.memcpy_htod(self.a_gpu, word)\n",
    "        self.cosine_similarity.prepared_call(self.grid_dot, self.block_dot, self.rows * 8, self.a_gpu, self.distances_gpu, self.c_model_gpu,norm)\n",
    "        cuda.memcpy_dtoh(self.final_result,self.distances_gpu)\n",
    "        return self.final_result\n",
    "\n"
   ]
  },
  {
   "cell_type": "markdown",
   "id": "0dbd56bc",
   "metadata": {},
   "source": [
    "We instantiate the class with the glove file, this file is available at https://nlp.stanford.edu/projects/glove/, and it is the 840B tokens and 2.2M vocab file."
   ]
  },
  {
   "cell_type": "code",
   "execution_count": 2,
   "id": "0b954dac",
   "metadata": {},
   "outputs": [],
   "source": [
    "search_engine=GloVeFastDistances(\"glove.840B.300d.txt\")"
   ]
  },
  {
   "cell_type": "markdown",
   "id": "62505260",
   "metadata": {},
   "source": [
    "We run a 100 iterations of the defined algorithm, and obtain the mean time and its standard deviation"
   ]
  },
  {
   "cell_type": "code",
   "execution_count": 3,
   "id": "18c29859",
   "metadata": {},
   "outputs": [
    {
     "name": "stdout",
     "output_type": "stream",
     "text": [
      "The seconds needed to compute the operation on average : 0.02777631759643555\n",
      "The st dev of the operation on average in seconds : 0.00026925900345701787\n"
     ]
    }
   ],
   "source": [
    "word=search_engine.word_dictionary[\"?\"]\n",
    "\n",
    "embeddings=search_engine.embeddings[word]\n",
    "\n",
    "time_array=[]\n",
    "\n",
    "for i in range(0,100):\n",
    "    start_op=time.time()\n",
    "    results=search_engine.get_similar_word(embeddings)\n",
    "    end_op=time.time()\n",
    "    time_array.append(end_op-start_op)\n",
    "print(\"The seconds needed to compute the operation on average : \"+str(numpy.mean(time_array)))\n",
    "print(\"The st dev of the operation on average in seconds : \"+str(numpy.std(time_array)))\n",
    "\n",
    "time_in_gpu=numpy.mean(time_array)\n"
   ]
  },
  {
   "cell_type": "markdown",
   "id": "7f88c0ed",
   "metadata": {},
   "source": [
    "We run a 100 iterations of the sklearn implementation of the above algorithm, and obtain the mean time and its standard deviation"
   ]
  },
  {
   "cell_type": "code",
   "execution_count": 4,
   "id": "61fdff4a",
   "metadata": {},
   "outputs": [
    {
     "name": "stdout",
     "output_type": "stream",
     "text": [
      "The seconds needed to compute the operation on average : 2.131491985321045\n",
      "The st dev of the operation on average in seconds : 0.3029625818037941\n",
      "The speedup from using GPU is of : 76.7377453084196\n"
     ]
    }
   ],
   "source": [
    "from sklearn.metrics.pairwise import cosine_similarity\n",
    "\n",
    "word=search_engine.word_dictionary[\"?\"]\n",
    "\n",
    "time_array2=[]\n",
    "\n",
    "embeddings=search_engine.embeddings\n",
    "embed_a=embeddings[word]\n",
    "for i in range(0,100):\n",
    "    start_op=time.time()\n",
    "    cosine_similarity(embeddings, [embed_a])\n",
    "    end_op=time.time()\n",
    "    time_array2.append(end_op-start_op)\n",
    "print(\"The seconds needed to compute the operation on average : \"+str(numpy.mean(time_array2)))\n",
    "print(\"The st dev of the operation on average in seconds : \"+str(numpy.std(time_array2)))\n",
    "\n",
    "time_in_cpu=numpy.mean(time_array2)\n",
    "\n",
    "print(\"The speedup from using GPU is of : \" +str(time_in_cpu/time_in_gpu))"
   ]
  }
 ],
 "metadata": {
  "kernelspec": {
   "display_name": "Python 3 (ipykernel)",
   "language": "python",
   "name": "python3"
  },
  "language_info": {
   "codemirror_mode": {
    "name": "ipython",
    "version": 3
   },
   "file_extension": ".py",
   "mimetype": "text/x-python",
   "name": "python",
   "nbconvert_exporter": "python",
   "pygments_lexer": "ipython3",
   "version": "3.10.6"
  }
 },
 "nbformat": 4,
 "nbformat_minor": 5
}
